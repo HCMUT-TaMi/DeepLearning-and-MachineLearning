{
  "nbformat": 4,
  "nbformat_minor": 0,
  "metadata": {
    "colab": {
      "provenance": [],
      "authorship_tag": "ABX9TyP8wwOxyTvktgfWqHqRLrHV",
      "include_colab_link": true
    },
    "kernelspec": {
      "name": "python3",
      "display_name": "Python 3"
    },
    "language_info": {
      "name": "python"
    }
  },
  "cells": [
    {
      "cell_type": "markdown",
      "metadata": {
        "id": "view-in-github",
        "colab_type": "text"
      },
      "source": [
        "<a href=\"https://colab.research.google.com/github/HCMUT-TaMi/DeepLearning-and-MachineLearning/blob/main/Linear_Regression.ipynb\" target=\"_parent\"><img src=\"https://colab.research.google.com/assets/colab-badge.svg\" alt=\"Open In Colab\"/></a>"
      ]
    },
    {
      "cell_type": "markdown",
      "source": [
        "Before we start, we must know about the Gradient Alogrithm"
      ],
      "metadata": {
        "id": "FQ909HG_r6OY"
      }
    },
    {
      "cell_type": "code",
      "execution_count": 2,
      "metadata": {
        "id": "DgpU2gZer0uG"
      },
      "outputs": [],
      "source": [
        "import pandas as pd\n",
        "import numpy as np\n",
        "import matplotlib.pyplot as plt"
      ]
    },
    {
      "cell_type": "code",
      "source": [
        "#this is a simple training model!\n",
        "\n",
        "#assume we have y = x^2, we want to find out where is the smallest location possible\n",
        "#we use learning rate where x = oldx - f'(x) * learning_rate = oldx - oldx**2 * learning rate\n",
        "\n",
        "#take x = 10, we will try to learn the best out of it\n",
        "x = 2\n",
        "y = []\n",
        "for i in range(50):\n",
        "  x = x - 2*x*0.05\n",
        "  y.append(x**2)\n",
        "\n",
        "plt.plot(y)\n",
        "plt.xlabel(\"expoch\")\n",
        "plt.ylabel(\"f(x)\")\n",
        "plt.show()\n"
      ],
      "metadata": {
        "colab": {
          "base_uri": "https://localhost:8080/",
          "height": 449
        },
        "id": "3zqouraqy3Ip",
        "outputId": "e6688279-92cb-4b1f-a976-523765073b9a"
      },
      "execution_count": null,
      "outputs": [
        {
          "output_type": "display_data",
          "data": {
            "text/plain": [
              "<Figure size 640x480 with 1 Axes>"
            ],
            "image/png": "[encoded data removed]"
          },
          "metadata": {}
        }
      ]
    },
    {
      "cell_type": "code",
      "source": [
        "#without any calculation, we can use the Gradinent style to solve Linear Regression model\n",
        "#notice that: y = x*w, where w is the coeffiectioncy, x = R(N,2), y = R(N,1) and w = (2,1)\n",
        "\n",
        "import pandas as pd\n",
        "import numpy as np\n",
        "\n",
        "pt = pd.read_csv('https://github.com/ybifoundation/Dataset/raw/main/Salary%20Data.csv')\n",
        "\n",
        "#read the value and ensure that, all the value is a matrix, not lists\n",
        "y = np.array(pt['Salary']).reshape(-1,1)\n",
        "x = np.array(pt['Experience Years']).reshape(-1,1)\n",
        "t = np.ones((pt.shape[0],1))\n",
        "\n",
        "#hstack is used to add 1. column, this will make y = w(1) * x + w(0)\n",
        "x = np.hstack((t,np.array(x)))\n",
        "w = np.array([1.,1.]).reshape(2,1) # we assume that, y = x + 1\n",
        "\n",
        "#iteration steps\n",
        "iteration = 100\n",
        "learning_rate = 0.0001"
      ],
      "metadata": {
        "id": "8lyop7l310C_"
      },
      "execution_count": 1,
      "outputs": []
    },
    {
      "cell_type": "code",
      "source": [
        "#running phrase\n",
        "for i in range(1,8000):\n",
        "  lost = np.dot(x,w) - y\n",
        "  w[0] -= learning_rate * np.sum(lost)\n",
        "  w[1] -= learning_rate * np.sum(np.multiply(lost,x[:,1].reshape(-1,1)))\n",
        "\n",
        "print(w[0])\n",
        "print(w[1])\n",
        "print((0.5 * np.sum(lost * lost)) / 40)\n",
        "#we can get that: y = 25673*x + 9523 (not really Linearity)"
      ],
      "metadata": {
        "colab": {
          "base_uri": "https://localhost:8080/"
        },
        "id": "ZNy-u2cu44Zu",
        "outputId": "40cbf8ab-5709-40f5-9c3b-55f7c8909244"
      },
      "execution_count": 3,
      "outputs": [
        {
          "output_type": "stream",
          "name": "stdout",
          "text": [
            "[25636.13640091]\n",
            "[9529.36295645]\n",
            "14480332.649700463\n"
          ]
        }
      ]
    },
    {
      "cell_type": "code",
      "source": [
        "#using skilearn\n",
        "from sklearn.linear_model import LinearRegression\n",
        "model = LinearRegression()\n",
        "\n",
        "pt = pd.read_csv('https://github.com/ybifoundation/Dataset/raw/main/Salary%20Data.csv')\n",
        "\n",
        "#read the value and ensure that, all the value is a matrix, not lists\n",
        "y = np.array(pt['Salary']).reshape(-1,1)\n",
        "x = np.array(pt['Experience Years']).reshape(-1,1)\n",
        "model.fit(x,y) #get the value ons\n",
        "print(model.coef_)\n",
        "print(model.intercept_)"
      ],
      "metadata": {
        "colab": {
          "base_uri": "https://localhost:8080/"
        },
        "id": "FA40cRjW46Gd",
        "outputId": "1e34db5e-acfc-49f1-cc1b-a22e086d74d4"
      },
      "execution_count": 4,
      "outputs": [
        {
          "output_type": "stream",
          "name": "stdout",
          "text": [
            "[[9523.65050742]]\n",
            "[25673.01576053]\n"
          ]
        }
      ]
    },
    {
      "cell_type": "code",
      "source": [
        "def millions(x):\n",
        "    return '$%1.1fM' % (x * 1e-6)\n",
        "\n",
        "# Fixing random state for reproducibility\n",
        "np.random.seed(19680801)\n",
        "fig, ax = plt.subplots()\n",
        "ax.fmt_ydata = millions\n",
        "plt.plot(x, y, 'o')\n",
        "plt.show()"
      ],
      "metadata": {
        "colab": {
          "base_uri": "https://localhost:8080/",
          "height": 430
        },
        "id": "5ycGBldJ489L",
        "outputId": "1158f1a0-ebe8-425a-a606-ed4876baa7a3"
      },
      "execution_count": 5,
      "outputs": [
        {
          "output_type": "display_data",
          "data": {
            "text/plain": [
              "<Figure size 640x480 with 1 Axes>"
            ],
            "image/png": "[encoded data removed]"
          },
          "metadata": {}
        }
      ]
    },
    {
      "cell_type": "markdown",
      "source": [
        "The proof of Linear Regression can be"
      ],
      "metadata": {
        "id": "WPGfaXWy2GJZ"
      }
    }
  ]
}