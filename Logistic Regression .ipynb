{
 "cells": [
  {
   "cell_type": "code",
   "execution_count": 332,
   "id": "725540d6",
   "metadata": {},
   "outputs": [],
   "source": [
    "import numpy as np \n",
    "import pandas as pd \n",
    "import matplotlib.pyplot as plt\n",
    "import math \n",
    "\n",
    "from numpy import random"
   ]
  },
  {
   "cell_type": "code",
   "execution_count": 176,
   "id": "8803400c",
   "metadata": {},
   "outputs": [
    {
     "name": "stdout",
     "output_type": "stream",
     "text": [
      "male\n",
      "0\n",
      "age\n",
      "0\n",
      "education\n",
      "105\n",
      "currentSmoker\n",
      "0\n",
      "cigsPerDay\n",
      "29\n",
      "BPMeds\n",
      "53\n",
      "prevalentStroke\n",
      "0\n",
      "prevalentHyp\n",
      "0\n",
      "diabetes\n",
      "0\n",
      "totChol\n",
      "50\n",
      "sysBP\n",
      "0\n",
      "diaBP\n",
      "0\n",
      "BMI\n",
      "19\n",
      "heartRate\n",
      "1\n",
      "glucose\n",
      "388\n",
      "TenYearCHD\n",
      "0\n"
     ]
    }
   ],
   "source": [
    "read_file = pd.read_csv(\"M:/Train_data/framingham.csv\")\n",
    "#count number of NULL data \n",
    "for col in read_file: \n",
    "    print(col) \n",
    "    print(read_file[col].isnull().sum()) "
   ]
  },
  {
   "cell_type": "code",
   "execution_count": 177,
   "id": "93428eb1",
   "metadata": {},
   "outputs": [],
   "source": [
    "#clean the data \n",
    "read_file = read_file.dropna(subset = [\"BMI\",\"heartRate\"])"
   ]
  },
  {
   "cell_type": "code",
   "execution_count": 221,
   "id": "7100a2ec",
   "metadata": {},
   "outputs": [],
   "source": [
    "#choosing data for logictic regression \n",
    "facts = np.hstack((np.ones((read_file.shape[0],1)),read_file[\"BMI\"].values.reshape(-1, 1), read_file[\"heartRate\"].values.reshape(-1, 1)))\n",
    "train_value = np.array(read_file[\"TenYearCHD\"]).reshape(-1,1) \n",
    "\n",
    "#w variable\n",
    "w = np.array([0,0.1,0.1]).reshape(-1,1)\n",
    "\n",
    "#sigmoid function   \n",
    "def sigmoid(x):\n",
    "    return 1 / (1 + np.exp(-np.clip(x, -250, 250)))\n",
    "\n",
    "def lost(real,pre): \n",
    "    if(real == 1): \n",
    "        return log(sigmoid(real)) \n",
    "    else: \n",
    "        return log(sigmoid(1-real))"
   ]
  },
  {
   "cell_type": "code",
   "execution_count": 179,
   "id": "1b13b828",
   "metadata": {},
   "outputs": [
    {
     "name": "stdout",
     "output_type": "stream",
     "text": [
      "(4218, 3)\n",
      "(4218, 1)\n",
      "(3, 1)\n"
     ]
    }
   ],
   "source": [
    "#check for array size \n",
    "print(facts.shape) \n",
    "print(train_value.shape) \n",
    "print(w.shape)"
   ]
  },
  {
   "cell_type": "code",
   "execution_count": 430,
   "id": "68b2a8ad",
   "metadata": {},
   "outputs": [],
   "source": [
    "#training model\n",
    "# \n",
    "# w = 3 x 1 \n",
    "# x = size x 3  \n",
    "# y = 1 x size() \n",
    "\n",
    "class Logistic_regression: \n",
    "    def __init__(self, learning_rate = 0.05, iter = 1000, random_state = 1) -> None:\n",
    "        self.eta  = learning_rate  \n",
    "        self.iter = iter  \n",
    "        self.random_state = random_state\n",
    "        self.w = np.random.normal(loc = 0.0, scale = 0.01, size = (3,1)) \n",
    "\n",
    "    def fit_value(self, x, y): \n",
    "        #Training Methods \n",
    "        for i in range(1,self.iter): \n",
    "            y_predict = np.dot(x,self.w)  \n",
    "            sigmoids = sigmoid(y_predict) \n",
    "            error = np.array(y - sigmoids) \n",
    "            self.w += 2.0 * self.eta * x.T.dot(error) / x.shape[0] \n",
    "        \n",
    "        return self.w \n",
    "        \n",
    "    \n",
    "        \n",
    "        "
   ]
  },
  {
   "cell_type": "code",
   "execution_count": 431,
   "id": "c968628a",
   "metadata": {},
   "outputs": [
    {
     "name": "stdout",
     "output_type": "stream",
     "text": [
      "[[-0.00748104]\n",
      " [-0.01425346]\n",
      " [-0.08727559]]\n"
     ]
    }
   ],
   "source": [
    "model = Logistic_regression(learning_rate = 0.002,iter = 400)\n",
    "w = model.fit_value(facts,train_value)\n",
    "print(w)"
   ]
  },
  {
   "cell_type": "code",
   "execution_count": 293,
   "id": "44c14168",
   "metadata": {},
   "outputs": [
    {
     "name": "stdout",
     "output_type": "stream",
     "text": [
      "[[1.]\n",
      " [1.]\n",
      " [1.]\n",
      " ...\n",
      " [1.]\n",
      " [1.]\n",
      " [1.]]\n"
     ]
    }
   ],
   "source": [
    "w = model.fit_value(facts,train_value)"
   ]
  }
 ],
 "metadata": {
  "kernelspec": {
   "display_name": "Python 3 (ipykernel)",
   "language": "python",
   "name": "python3"
  },
  "language_info": {
   "codemirror_mode": {
    "name": "ipython",
    "version": 3
   },
   "file_extension": ".py",
   "mimetype": "text/x-python",
   "name": "python",
   "nbconvert_exporter": "python",
   "pygments_lexer": "ipython3",
   "version": "3.11.7"
  }
 },
 "nbformat": 4,
 "nbformat_minor": 5
}
