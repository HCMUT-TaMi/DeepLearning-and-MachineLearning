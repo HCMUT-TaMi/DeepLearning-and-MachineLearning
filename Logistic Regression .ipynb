{
 "cells": [
  {
   "cell_type": "code",
   "execution_count": 1,
   "id": "725540d6",
   "metadata": {},
   "outputs": [],
   "source": [
    "import numpy as np \n",
    "import pandas as pd \n",
    "import matplotlib.pyplot as plt\n",
    "import math "
   ]
  },
  {
   "cell_type": "code",
   "execution_count": 2,
   "id": "8803400c",
   "metadata": {},
   "outputs": [
    {
     "name": "stdout",
     "output_type": "stream",
     "text": [
      "male\n",
      "0\n",
      "age\n",
      "0\n",
      "education\n",
      "105\n",
      "currentSmoker\n",
      "0\n",
      "cigsPerDay\n",
      "29\n",
      "BPMeds\n",
      "53\n",
      "prevalentStroke\n",
      "0\n",
      "prevalentHyp\n",
      "0\n",
      "diabetes\n",
      "0\n",
      "totChol\n",
      "50\n",
      "sysBP\n",
      "0\n",
      "diaBP\n",
      "0\n",
      "BMI\n",
      "19\n",
      "heartRate\n",
      "1\n",
      "glucose\n",
      "388\n",
      "TenYearCHD\n",
      "0\n"
     ]
    }
   ],
   "source": [
    "read_file = pd.read_csv(\"M:/Train_data/framingham.csv\")\n",
    "#count number of NULL data \n",
    "for col in read_file: \n",
    "    print(col) \n",
    "    print(read_file[col].isnull().sum()) "
   ]
  },
  {
   "cell_type": "code",
   "execution_count": 80,
   "id": "93428eb1",
   "metadata": {},
   "outputs": [],
   "source": [
    "#clean the data \n",
    "read_file = read_file.dropna(subset = [\"BMI\",\"heartRate\"])"
   ]
  },
  {
   "cell_type": "code",
   "execution_count": 116,
   "id": "7100a2ec",
   "metadata": {},
   "outputs": [],
   "source": [
    "#choosing data for logictic regression \n",
    "facts = np.hstack((np.ones((read_file.shape[0],1)),read_file[\"BMI\"].values.reshape(-1, 1), read_file[\"heartRate\"].values.reshape(-1, 1)))\n",
    "train_value = np.array(read_file[\"TenYearCHD\"]).reshape(-1,1) \n",
    "\n",
    "#w variable\n",
    "w = np.array([0,0.1,0.1]).reshape(-1,1)\n",
    "\n",
    "#sigmoid function   \n",
    "def sigmoid(x): \n",
    "    return 1 / (1 - np.exp(-x))\n",
    "\n",
    "def lost(real,pre): \n",
    "    if(real == 1): \n",
    "        return log(sigmoid(real)) \n",
    "    else: \n",
    "        return log(sigmoid(1-real))"
   ]
  },
  {
   "cell_type": "code",
   "execution_count": 117,
   "id": "1b13b828",
   "metadata": {},
   "outputs": [
    {
     "name": "stdout",
     "output_type": "stream",
     "text": [
      "(4218, 3)\n",
      "(4218, 1)\n",
      "(3, 1)\n"
     ]
    }
   ],
   "source": [
    "#check for array size \n",
    "print(facts.shape) \n",
    "print(train_value.shape) \n",
    "print(w.shape)"
   ]
  },
  {
   "cell_type": "code",
   "execution_count": 118,
   "id": "68b2a8ad",
   "metadata": {},
   "outputs": [
    {
     "name": "stderr",
     "output_type": "stream",
     "text": [
      "C:\\Users\\VICTUS\\AppData\\Local\\Temp\\ipykernel_5368\\810183723.py:10: RuntimeWarning: overflow encountered in exp\n",
      "  return 1 / (1 - np.exp(-x))\n"
     ]
    }
   ],
   "source": [
    "#training model \n",
    "\n",
    "#model config \n",
    "iteration = 1000 \n",
    "learning_rate = 0.01 \n",
    "\n",
    "for i in range (1,iteration): \n",
    "    # y_predict = sigmoid(y) = sigmoid(dot(w,facts)) \n",
    "    prediction = sigmoid(np.dot(facts,w))\n",
    "    w = w - learning_rate * 1/(facts.shape[0]) * np.dot(facts.T, prediction - train_value)"
   ]
  },
  {
   "cell_type": "code",
   "execution_count": 119,
   "id": "d8420f92",
   "metadata": {},
   "outputs": [
    {
     "name": "stdout",
     "output_type": "stream",
     "text": [
      "[[-0.01788703]\n",
      " [-0.42113258]\n",
      " [-0.24618167]]\n"
     ]
    }
   ],
   "source": [
    "print(w)"
   ]
  },
  {
   "cell_type": "code",
   "execution_count": 104,
   "id": "32c41277",
   "metadata": {},
   "outputs": [],
   "source": [
    "#getting the result out \n",
    "#for w*X > -ln(1/t -1) for t is the value we want to denied\n",
    "#plot out the w0 + w1*x1 + w2*x2 = -ln(1/t - 1) where t is defied"
   ]
  },
  {
   "cell_type": "code",
   "execution_count": 120,
   "id": "198d6354",
   "metadata": {},
   "outputs": [],
   "source": [
    "#model using skilearn \n",
    "import sklearn \n",
    "from sklearn.regression "
   ]
  },
  {
   "cell_type": "code",
   "execution_count": null,
   "id": "0ce8bb3f",
   "metadata": {},
   "outputs": [],
   "source": []
  }
 ],
 "metadata": {
  "kernelspec": {
   "display_name": "Python 3 (ipykernel)",
   "language": "python",
   "name": "python3"
  },
  "language_info": {
   "codemirror_mode": {
    "name": "ipython",
    "version": 3
   },
   "file_extension": ".py",
   "mimetype": "text/x-python",
   "name": "python",
   "nbconvert_exporter": "python",
   "pygments_lexer": "ipython3",
   "version": "3.11.7"
  }
 },
 "nbformat": 4,
 "nbformat_minor": 5
}
